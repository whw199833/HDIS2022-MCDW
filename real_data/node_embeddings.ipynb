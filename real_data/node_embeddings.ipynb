{
 "cells": [
  {
   "cell_type": "markdown",
   "metadata": {},
   "source": [
    "## This notebook learns node embeddings by DeepWalk and Node2Vec"
   ]
  },
  {
   "cell_type": "code",
   "execution_count": 2,
   "metadata": {
    "id": "DeOoAHLC6aoO"
   },
   "outputs": [],
   "source": [
    "import torch\n",
    "from torch_geometric.data import Data\n",
    "from torch_geometric.data import DataLoader\n",
    "import pandas as pd\n",
    "import numpy as np \n",
    "import gensim\n",
    "\n",
    "import networkx as nx\n",
    "from torch_geometric.utils.convert import to_networkx\n",
    "import matplotlib.pyplot as plt\n",
    "\n",
    "from gensim.models import Word2Vec\n",
    "from node2vec import Node2Vec\n",
    "from tqdm import tqdm\n",
    "import random"
   ]
  },
  {
   "cell_type": "code",
   "execution_count": 1,
   "metadata": {
    "colab": {
     "base_uri": "https://localhost:8080/"
    },
    "id": "-zZ5Ybl5rGIu",
    "outputId": "601cd141-1195-4b66-a1be-1b0a02e6b954"
   },
   "outputs": [
    {
     "name": "stdout",
     "output_type": "stream",
     "text": [
      "Looking in indexes: https://pypi.org/simple, https://us-python.pkg.dev/colab-wheels/public/simple/\n",
      "Requirement already satisfied: gensim in /usr/local/lib/python3.7/dist-packages (3.6.0)\n",
      "Collecting gensim\n",
      "  Downloading gensim-4.2.0-cp37-cp37m-manylinux_2_12_x86_64.manylinux2010_x86_64.whl (24.1 MB)\n",
      "\u001b[K     |████████████████████████████████| 24.1 MB 1.1 MB/s \n",
      "\u001b[?25hRequirement already satisfied: smart-open>=1.8.1 in /usr/local/lib/python3.7/dist-packages (from gensim) (5.2.1)\n",
      "Requirement already satisfied: scipy>=0.18.1 in /usr/local/lib/python3.7/dist-packages (from gensim) (1.7.3)\n",
      "Requirement already satisfied: numpy>=1.17.0 in /usr/local/lib/python3.7/dist-packages (from gensim) (1.21.6)\n",
      "Installing collected packages: gensim\n",
      "  Attempting uninstall: gensim\n",
      "    Found existing installation: gensim 3.6.0\n",
      "    Uninstalling gensim-3.6.0:\n",
      "      Successfully uninstalled gensim-3.6.0\n",
      "Successfully installed gensim-4.2.0\n",
      "  Building wheel for torch-scatter (setup.py) ... \u001b[?25l\u001b[?25hdone\n",
      "\u001b[K     |████████████████████████████████| 51 kB 199 kB/s \n",
      "\u001b[?25h  Building wheel for torch-sparse (setup.py) ... \u001b[?25l\u001b[?25hdone\n",
      "  Building wheel for torch-geometric (setup.py) ... \u001b[?25l\u001b[?25hdone\n",
      "Looking in indexes: https://pypi.org/simple, https://us-python.pkg.dev/colab-wheels/public/simple/\n",
      "Collecting node2vec\n",
      "  Downloading node2vec-0.4.3.tar.gz (4.6 kB)\n",
      "Requirement already satisfied: networkx in /usr/local/lib/python3.7/dist-packages (from node2vec) (2.6.3)\n",
      "Requirement already satisfied: gensim in /usr/local/lib/python3.7/dist-packages (from node2vec) (4.2.0)\n",
      "Requirement already satisfied: numpy in /usr/local/lib/python3.7/dist-packages (from node2vec) (1.21.6)\n",
      "Requirement already satisfied: tqdm in /usr/local/lib/python3.7/dist-packages (from node2vec) (4.64.0)\n",
      "Requirement already satisfied: joblib>=0.13.2 in /usr/local/lib/python3.7/dist-packages (from node2vec) (1.1.0)\n",
      "Requirement already satisfied: scipy>=0.18.1 in /usr/local/lib/python3.7/dist-packages (from gensim->node2vec) (1.7.3)\n",
      "Requirement already satisfied: smart-open>=1.8.1 in /usr/local/lib/python3.7/dist-packages (from gensim->node2vec) (5.2.1)\n",
      "Building wheels for collected packages: node2vec\n",
      "  Building wheel for node2vec (setup.py) ... \u001b[?25l\u001b[?25hdone\n",
      "  Created wheel for node2vec: filename=node2vec-0.4.3-py3-none-any.whl size=5980 sha256=232b06027034087bc172197c6936a6f83fb07840ae7353f37509d564ed110a92\n",
      "  Stored in directory: /root/.cache/pip/wheels/07/62/78/5202cb8c03cbf1593b48a8a442fca8ceec2a8c80e22318bae9\n",
      "Successfully built node2vec\n",
      "Installing collected packages: node2vec\n",
      "Successfully installed node2vec-0.4.3\n"
     ]
    }
   ],
   "source": [
    "!pip install --upgrade gensim\n",
    "!pip install -q torch-scatter -f https://data.pyg.org/whl/torch-${TORCH}.html\n",
    "!pip install -q torch-sparse -f https://data.pyg.org/whl/torch-${TORCH}.html\n",
    "!pip install -q git+https://github.com/pyg-team/pytorch_geometric.git\n",
    "!pip install node2vec"
   ]
  },
  {
   "cell_type": "code",
   "execution_count": null,
   "metadata": {
    "id": "G2R7QbRkLNLe"
   },
   "outputs": [],
   "source": [
    "from google.colab import files\n",
    "uploaded = files.upload()"
   ]
  },
  {
   "cell_type": "code",
   "execution_count": null,
   "metadata": {
    "colab": {
     "base_uri": "https://localhost:8080/",
     "height": 424
    },
    "id": "cg_qkXJt6aoQ",
    "outputId": "6cfa10c3-02fc-4aaf-d69d-1e60774d8afc"
   },
   "outputs": [
    {
     "data": {
      "text/html": [
       "<div>\n",
       "<style scoped>\n",
       "    .dataframe tbody tr th:only-of-type {\n",
       "        vertical-align: middle;\n",
       "    }\n",
       "\n",
       "    .dataframe tbody tr th {\n",
       "        vertical-align: top;\n",
       "    }\n",
       "\n",
       "    .dataframe thead th {\n",
       "        text-align: right;\n",
       "    }\n",
       "</style>\n",
       "<table border=\"1\" class=\"dataframe\">\n",
       "  <thead>\n",
       "    <tr style=\"text-align: right;\">\n",
       "      <th></th>\n",
       "      <th>f0</th>\n",
       "      <th>f1</th>\n",
       "      <th>f2</th>\n",
       "      <th>f3</th>\n",
       "      <th>f4</th>\n",
       "      <th>f5</th>\n",
       "      <th>f6</th>\n",
       "      <th>f7</th>\n",
       "      <th>f8</th>\n",
       "      <th>f9</th>\n",
       "      <th>f10</th>\n",
       "      <th>f11</th>\n",
       "      <th>treatment</th>\n",
       "      <th>conversion</th>\n",
       "      <th>visit</th>\n",
       "      <th>exposure</th>\n",
       "    </tr>\n",
       "  </thead>\n",
       "  <tbody>\n",
       "    <tr>\n",
       "      <th>0</th>\n",
       "      <td>12.616365</td>\n",
       "      <td>10.059654</td>\n",
       "      <td>8.976429</td>\n",
       "      <td>4.679882</td>\n",
       "      <td>10.280525</td>\n",
       "      <td>4.115453</td>\n",
       "      <td>0.294443</td>\n",
       "      <td>4.833815</td>\n",
       "      <td>3.955396</td>\n",
       "      <td>13.190056</td>\n",
       "      <td>5.300375</td>\n",
       "      <td>-0.168679</td>\n",
       "      <td>1</td>\n",
       "      <td>0</td>\n",
       "      <td>0</td>\n",
       "      <td>0</td>\n",
       "    </tr>\n",
       "    <tr>\n",
       "      <th>1</th>\n",
       "      <td>12.616365</td>\n",
       "      <td>10.059654</td>\n",
       "      <td>9.002689</td>\n",
       "      <td>4.679882</td>\n",
       "      <td>10.280525</td>\n",
       "      <td>4.115453</td>\n",
       "      <td>0.294443</td>\n",
       "      <td>4.833815</td>\n",
       "      <td>3.955396</td>\n",
       "      <td>13.190056</td>\n",
       "      <td>5.300375</td>\n",
       "      <td>-0.168679</td>\n",
       "      <td>1</td>\n",
       "      <td>0</td>\n",
       "      <td>0</td>\n",
       "      <td>0</td>\n",
       "    </tr>\n",
       "    <tr>\n",
       "      <th>2</th>\n",
       "      <td>12.616365</td>\n",
       "      <td>10.059654</td>\n",
       "      <td>8.964775</td>\n",
       "      <td>4.679882</td>\n",
       "      <td>10.280525</td>\n",
       "      <td>4.115453</td>\n",
       "      <td>0.294443</td>\n",
       "      <td>4.833815</td>\n",
       "      <td>3.955396</td>\n",
       "      <td>13.190056</td>\n",
       "      <td>5.300375</td>\n",
       "      <td>-0.168679</td>\n",
       "      <td>1</td>\n",
       "      <td>0</td>\n",
       "      <td>0</td>\n",
       "      <td>0</td>\n",
       "    </tr>\n",
       "    <tr>\n",
       "      <th>3</th>\n",
       "      <td>12.616365</td>\n",
       "      <td>10.059654</td>\n",
       "      <td>9.002801</td>\n",
       "      <td>4.679882</td>\n",
       "      <td>10.280525</td>\n",
       "      <td>4.115453</td>\n",
       "      <td>0.294443</td>\n",
       "      <td>4.833815</td>\n",
       "      <td>3.955396</td>\n",
       "      <td>13.190056</td>\n",
       "      <td>5.300375</td>\n",
       "      <td>-0.168679</td>\n",
       "      <td>1</td>\n",
       "      <td>0</td>\n",
       "      <td>0</td>\n",
       "      <td>0</td>\n",
       "    </tr>\n",
       "    <tr>\n",
       "      <th>4</th>\n",
       "      <td>12.616365</td>\n",
       "      <td>10.059654</td>\n",
       "      <td>9.037999</td>\n",
       "      <td>4.679882</td>\n",
       "      <td>10.280525</td>\n",
       "      <td>4.115453</td>\n",
       "      <td>0.294443</td>\n",
       "      <td>4.833815</td>\n",
       "      <td>3.955396</td>\n",
       "      <td>13.190056</td>\n",
       "      <td>5.300375</td>\n",
       "      <td>-0.168679</td>\n",
       "      <td>1</td>\n",
       "      <td>0</td>\n",
       "      <td>0</td>\n",
       "      <td>0</td>\n",
       "    </tr>\n",
       "    <tr>\n",
       "      <th>...</th>\n",
       "      <td>...</td>\n",
       "      <td>...</td>\n",
       "      <td>...</td>\n",
       "      <td>...</td>\n",
       "      <td>...</td>\n",
       "      <td>...</td>\n",
       "      <td>...</td>\n",
       "      <td>...</td>\n",
       "      <td>...</td>\n",
       "      <td>...</td>\n",
       "      <td>...</td>\n",
       "      <td>...</td>\n",
       "      <td>...</td>\n",
       "      <td>...</td>\n",
       "      <td>...</td>\n",
       "      <td>...</td>\n",
       "    </tr>\n",
       "    <tr>\n",
       "      <th>13979587</th>\n",
       "      <td>26.297764</td>\n",
       "      <td>10.059654</td>\n",
       "      <td>9.006250</td>\n",
       "      <td>4.679882</td>\n",
       "      <td>10.280525</td>\n",
       "      <td>4.115453</td>\n",
       "      <td>-3.282109</td>\n",
       "      <td>4.833815</td>\n",
       "      <td>3.839578</td>\n",
       "      <td>13.190056</td>\n",
       "      <td>5.300375</td>\n",
       "      <td>-0.168679</td>\n",
       "      <td>1</td>\n",
       "      <td>0</td>\n",
       "      <td>0</td>\n",
       "      <td>0</td>\n",
       "    </tr>\n",
       "    <tr>\n",
       "      <th>13979588</th>\n",
       "      <td>12.642207</td>\n",
       "      <td>10.679513</td>\n",
       "      <td>8.214383</td>\n",
       "      <td>-1.700105</td>\n",
       "      <td>10.280525</td>\n",
       "      <td>3.013064</td>\n",
       "      <td>-13.955150</td>\n",
       "      <td>6.269026</td>\n",
       "      <td>3.971858</td>\n",
       "      <td>13.190056</td>\n",
       "      <td>5.300375</td>\n",
       "      <td>-0.168679</td>\n",
       "      <td>1</td>\n",
       "      <td>0</td>\n",
       "      <td>0</td>\n",
       "      <td>1</td>\n",
       "    </tr>\n",
       "    <tr>\n",
       "      <th>13979589</th>\n",
       "      <td>12.976557</td>\n",
       "      <td>10.059654</td>\n",
       "      <td>8.381868</td>\n",
       "      <td>0.842442</td>\n",
       "      <td>11.029584</td>\n",
       "      <td>4.115453</td>\n",
       "      <td>-8.281971</td>\n",
       "      <td>4.833815</td>\n",
       "      <td>3.779212</td>\n",
       "      <td>23.570168</td>\n",
       "      <td>6.169187</td>\n",
       "      <td>-0.168679</td>\n",
       "      <td>1</td>\n",
       "      <td>0</td>\n",
       "      <td>1</td>\n",
       "      <td>0</td>\n",
       "    </tr>\n",
       "    <tr>\n",
       "      <th>13979590</th>\n",
       "      <td>24.805064</td>\n",
       "      <td>10.059654</td>\n",
       "      <td>8.214383</td>\n",
       "      <td>4.679882</td>\n",
       "      <td>10.280525</td>\n",
       "      <td>4.115453</td>\n",
       "      <td>-1.288207</td>\n",
       "      <td>4.833815</td>\n",
       "      <td>3.971858</td>\n",
       "      <td>13.190056</td>\n",
       "      <td>5.300375</td>\n",
       "      <td>-0.168679</td>\n",
       "      <td>1</td>\n",
       "      <td>0</td>\n",
       "      <td>0</td>\n",
       "      <td>0</td>\n",
       "    </tr>\n",
       "    <tr>\n",
       "      <th>13979591</th>\n",
       "      <td>12.616365</td>\n",
       "      <td>10.059654</td>\n",
       "      <td>8.214383</td>\n",
       "      <td>4.679882</td>\n",
       "      <td>10.280525</td>\n",
       "      <td>3.013064</td>\n",
       "      <td>0.294443</td>\n",
       "      <td>9.332563</td>\n",
       "      <td>3.971858</td>\n",
       "      <td>13.190056</td>\n",
       "      <td>5.300375</td>\n",
       "      <td>-0.168679</td>\n",
       "      <td>1</td>\n",
       "      <td>0</td>\n",
       "      <td>0</td>\n",
       "      <td>0</td>\n",
       "    </tr>\n",
       "  </tbody>\n",
       "</table>\n",
       "<p>13979592 rows × 16 columns</p>\n",
       "</div>"
      ],
      "text/plain": [
       "                 f0         f1        f2        f3         f4        f5  \\\n",
       "0         12.616365  10.059654  8.976429  4.679882  10.280525  4.115453   \n",
       "1         12.616365  10.059654  9.002689  4.679882  10.280525  4.115453   \n",
       "2         12.616365  10.059654  8.964775  4.679882  10.280525  4.115453   \n",
       "3         12.616365  10.059654  9.002801  4.679882  10.280525  4.115453   \n",
       "4         12.616365  10.059654  9.037999  4.679882  10.280525  4.115453   \n",
       "...             ...        ...       ...       ...        ...       ...   \n",
       "13979587  26.297764  10.059654  9.006250  4.679882  10.280525  4.115453   \n",
       "13979588  12.642207  10.679513  8.214383 -1.700105  10.280525  3.013064   \n",
       "13979589  12.976557  10.059654  8.381868  0.842442  11.029584  4.115453   \n",
       "13979590  24.805064  10.059654  8.214383  4.679882  10.280525  4.115453   \n",
       "13979591  12.616365  10.059654  8.214383  4.679882  10.280525  3.013064   \n",
       "\n",
       "                 f6        f7        f8         f9       f10       f11  \\\n",
       "0          0.294443  4.833815  3.955396  13.190056  5.300375 -0.168679   \n",
       "1          0.294443  4.833815  3.955396  13.190056  5.300375 -0.168679   \n",
       "2          0.294443  4.833815  3.955396  13.190056  5.300375 -0.168679   \n",
       "3          0.294443  4.833815  3.955396  13.190056  5.300375 -0.168679   \n",
       "4          0.294443  4.833815  3.955396  13.190056  5.300375 -0.168679   \n",
       "...             ...       ...       ...        ...       ...       ...   \n",
       "13979587  -3.282109  4.833815  3.839578  13.190056  5.300375 -0.168679   \n",
       "13979588 -13.955150  6.269026  3.971858  13.190056  5.300375 -0.168679   \n",
       "13979589  -8.281971  4.833815  3.779212  23.570168  6.169187 -0.168679   \n",
       "13979590  -1.288207  4.833815  3.971858  13.190056  5.300375 -0.168679   \n",
       "13979591   0.294443  9.332563  3.971858  13.190056  5.300375 -0.168679   \n",
       "\n",
       "          treatment  conversion  visit  exposure  \n",
       "0                 1           0      0         0  \n",
       "1                 1           0      0         0  \n",
       "2                 1           0      0         0  \n",
       "3                 1           0      0         0  \n",
       "4                 1           0      0         0  \n",
       "...             ...         ...    ...       ...  \n",
       "13979587          1           0      0         0  \n",
       "13979588          1           0      0         1  \n",
       "13979589          1           0      1         0  \n",
       "13979590          1           0      0         0  \n",
       "13979591          1           0      0         0  \n",
       "\n",
       "[13979592 rows x 16 columns]"
      ]
     },
     "execution_count": 3,
     "metadata": {},
     "output_type": "execute_result"
    }
   ],
   "source": [
    "df=pd.read_csv('criteo-uplift-v2.1.csv')\n",
    "df"
   ]
  },
  {
   "cell_type": "code",
   "execution_count": null,
   "metadata": {
    "id": "dUqD4ODYuynw"
   },
   "outputs": [],
   "source": [
    "col=df.columns\n",
    "y=torch.from_numpy((np.array(df['conversion']))).reshape(df.shape[0],1).to(torch.float32)\n",
    "x=torch.from_numpy(np.array(df[[c for c in df.columns[:-4]]+[\"visit\"]+[\"treatment\"]])).to(torch.float32)\n",
    "x=x[0].reshape(-1,1)\n",
    "y=y[0].reshape(-1,1)\n",
    "\n",
    "# load edge index\n",
    "edge_index=pd.read_csv('edge_index_criteo.csv')\n",
    "edge_index=torch.from_numpy(np.transpose(np.array(edge_index)))\n",
    "\n",
    "data=Data(x=x,edge_index=edge_index,y=y)"
   ]
  },
  {
   "cell_type": "code",
   "execution_count": null,
   "metadata": {
    "id": "B1vGOPF6Qr79"
   },
   "outputs": [],
   "source": [
    "random_walks = []\n",
    "def get_randomwalk(node, path_length):\n",
    "    \n",
    "    random_walk = [node] \n",
    "    for i in range(path_length-1):\n",
    "        temp = list(G.neighbors(node))\n",
    "        temp = list(set(temp) - set(random_walk))    \n",
    "        if len(temp) == 0:\n",
    "            break\n",
    "\n",
    "        random_node = random.choice(temp)\n",
    "        random_walk.append(random_node)\n",
    "        node = random_node\n",
    "        \n",
    "    return random_walk\n",
    "    \n",
    "G=to_networkx(data)\n",
    "all_nodes=list(G.nodes())\n",
    "\n",
    "for n in tqdm(all_nodes):\n",
    "    for i in range(20):\n",
    "        random_walks.append(get_randomwalk(n,50))"
   ]
  },
  {
   "cell_type": "code",
   "execution_count": null,
   "metadata": {
    "colab": {
     "base_uri": "https://localhost:8080/",
     "height": 319
    },
    "id": "eOIVWQq-6aoX",
    "outputId": "d5d29339-c4c1-40c5-9d0d-27ee25b4cca0"
   },
   "outputs": [
    {
     "data": {
      "image/png": "[encoded data removed]",
      "text/plain": [
       "<Figure size 432x288 with 1 Axes>"
      ]
     },
     "metadata": {},
     "output_type": "display_data"
    }
   ],
   "source": [
    "def draw(Data):\n",
    "    G = to_networkx(Data)\n",
    "    mapping = {13:'T' }\n",
    "    relabeled_G = nx.relabel_nodes(G,mapping)\n",
    "    nx.draw_circular(relabeled_G,node_size=800,with_labels=True)\n",
    "    plt.savefig(\"path.png\")\n",
    "    plt.show()\n",
    "draw(data)"
   ]
  },
  {
   "cell_type": "markdown",
   "metadata": {
    "id": "vnVQEopL6aoZ"
   },
   "source": [
    "## Node embeddings generated from deepwalk"
   ]
  },
  {
   "cell_type": "code",
   "execution_count": null,
   "metadata": {
    "colab": {
     "base_uri": "https://localhost:8080/",
     "height": 203
    },
    "id": "riix04yZ6aoe",
    "outputId": "2a0e9dc9-80a5-43c6-cb84-0f17b159316f"
   },
   "outputs": [
    {
     "data": {
      "text/plain": [
       "[(9, 0.9577751755714417),\n",
       " (12, 0.9298327565193176),\n",
       " (5, 0.9186494946479797),\n",
       " (3, 0.9053271412849426),\n",
       " (2, 0.892383873462677),\n",
       " (11, 0.8884193897247314),\n",
       " (7, 0.8615646958351135),\n",
       " (0, 0.8539919257164001),\n",
       " (13, 0.8308837413787842),\n",
       " (8, 0.8088979125022888)]"
      ]
     },
     "execution_count": 24,
     "metadata": {},
     "output_type": "execute_result"
    }
   ],
   "source": [
    "model = Word2Vec(vector_size=10,window = 4, sg = 1, hs = 0,\n",
    "                 negative = 3, alpha=0.03, min_alpha=0.0007,seed = 14)\n",
    "model.build_vocab(random_walks, progress_per=5)\n",
    "model.train(random_walks,total_examples = model.corpus_count, epochs=30, report_delay=1)\n",
    "model.save(r\"deepwalk_10d_x13.model\")\n",
    "files.download(\"deepwalk_10d_x13.model\")\n",
    "model.wv.similar_by_word(1)"
   ]
  },
  {
   "cell_type": "markdown",
   "metadata": {
    "id": "NuvIixrb6aof"
   },
   "source": [
    "## Node embeddings generated from Node2Vec"
   ]
  },
  {
   "cell_type": "code",
   "execution_count": null,
   "metadata": {
    "colab": {
     "base_uri": "https://localhost:8080/",
     "height": 235,
     "referenced_widgets": [
      "e95bed07d1404984bf670b779cfad23c"
     ]
    },
    "id": "FWf0b6mC6aog",
    "outputId": "bc9714c4-1648-4ffa-a9cb-3c5f1613cdaa"
   },
   "outputs": [
    {
     "data": {
      "application/vnd.jupyter.widget-view+json": {
       "model_id": "e95bed07d1404984bf670b779cfad23c",
       "version_major": 2,
       "version_minor": 0
      },
      "text/plain": [
       "Computing transition probabilities:   0%|          | 0/14 [00:00<?, ?it/s]"
      ]
     },
     "metadata": {},
     "output_type": "display_data"
    },
    {
     "name": "stderr",
     "output_type": "stream",
     "text": [
      "\r",
      "Generating walks (CPU: 3):   0%|          | 0/25 [00:00<?, ?it/s]\r",
      "Generating walks (CPU: 1):   0%|          | 0/25 [00:00<?, ?it/s]\r",
      "Generating walks (CPU: 4):   0%|          | 0/25 [00:00<?, ?it/s]\r",
      "Generating walks (CPU: 2):   0%|          | 0/25 [00:00<?, ?it/s]\r",
      "Generating walks (CPU: 4): 100%|██████████| 25/25 [00:00<00:00, 401.78it/s]\n",
      "\r",
      "Generating walks (CPU: 1): 100%|██████████| 25/25 [00:00<00:00, 396.83it/s]\n",
      "\r",
      "Generating walks (CPU: 3): 100%|██████████| 25/25 [00:00<00:00, 396.43it/s]\n",
      "\r",
      "Generating walks (CPU: 2): 100%|██████████| 25/25 [00:00<00:00, 394.17it/s]\n"
     ]
    },
    {
     "data": {
      "text/plain": [
       "[('4', 0.9629924893379211),\n",
       " ('8', 0.9616152048110962),\n",
       " ('2', 0.9490526914596558),\n",
       " ('9', 0.9373694658279419),\n",
       " ('13', 0.925393283367157),\n",
       " ('3', 0.9115868210792542),\n",
       " ('0', 0.9084211587905884),\n",
       " ('5', 0.9048509001731873),\n",
       " ('7', 0.9010432958602905),\n",
       " ('6', 0.8865363001823425)]"
      ]
     },
     "execution_count": 27,
     "metadata": {},
     "output_type": "execute_result"
    }
   ],
   "source": [
    "node2vec = Node2Vec(graph=G, dimensions=10, walk_length=50, num_walks=100, workers=4)  # Use temp_folder for big graphs\n",
    "model = node2vec.fit(window=4, min_count=1, batch_words=4)  \n",
    "model.save(r\"Node2Vec_10d_x13.model\")\n",
    "files.download(\"Node2Vec_10d_x13.model\")\n",
    "model.wv.similar_by_word(1)"
   ]
  }
 ],
 "metadata": {
  "accelerator": "GPU",
  "colab": {
   "background_execution": "on",
   "collapsed_sections": [],
   "machine_shape": "hm",
   "name": "node_embedding.ipynb",
   "provenance": []
  },
  "interpreter": {
   "hash": "cd9ce680b654e493fbbd5797259a0b454ac6d0effeb2d1358682b4d9ed73e0e9"
  },
  "kernelspec": {
   "display_name": "Python 3 (ipykernel)",
   "language": "python",
   "name": "python3"
  },
  "language_info": {
   "codemirror_mode": {
    "name": "ipython",
    "version": 3
   },
   "file_extension": ".py",
   "mimetype": "text/x-python",
   "name": "python",
   "nbconvert_exporter": "python",
   "pygments_lexer": "ipython3",
   "version": "3.9.7"
  }
 },
 "nbformat": 4,
 "nbformat_minor": 1
}
